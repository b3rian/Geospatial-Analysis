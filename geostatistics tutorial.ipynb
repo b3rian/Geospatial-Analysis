{
 "cells": [
  {
   "cell_type": "code",
   "execution_count": 2,
   "metadata": {},
   "outputs": [],
   "source": [
    "import numpy as np\n",
    "import pandas as pd"
   ]
  },
  {
   "cell_type": "code",
   "execution_count": 3,
   "metadata": {},
   "outputs": [
    {
     "data": {
      "text/html": [
       "<div>\n",
       "<style scoped>\n",
       "    .dataframe tbody tr th:only-of-type {\n",
       "        vertical-align: middle;\n",
       "    }\n",
       "\n",
       "    .dataframe tbody tr th {\n",
       "        vertical-align: top;\n",
       "    }\n",
       "\n",
       "    .dataframe thead th {\n",
       "        text-align: right;\n",
       "    }\n",
       "</style>\n",
       "<table border=\"1\" class=\"dataframe\">\n",
       "  <thead>\n",
       "    <tr style=\"text-align: right;\">\n",
       "      <th></th>\n",
       "      <th>x</th>\n",
       "      <th>y</th>\n",
       "      <th>cadmium</th>\n",
       "      <th>copper</th>\n",
       "      <th>lead</th>\n",
       "      <th>zinc</th>\n",
       "      <th>elev</th>\n",
       "      <th>dist</th>\n",
       "      <th>om</th>\n",
       "      <th>ffreq</th>\n",
       "      <th>soil</th>\n",
       "      <th>lime</th>\n",
       "      <th>landuse</th>\n",
       "      <th>dist.m</th>\n",
       "    </tr>\n",
       "  </thead>\n",
       "  <tbody>\n",
       "    <tr>\n",
       "      <th>0</th>\n",
       "      <td>181072</td>\n",
       "      <td>333611</td>\n",
       "      <td>11.7</td>\n",
       "      <td>85</td>\n",
       "      <td>299</td>\n",
       "      <td>1022</td>\n",
       "      <td>7.909</td>\n",
       "      <td>0.001358</td>\n",
       "      <td>13.6</td>\n",
       "      <td>1</td>\n",
       "      <td>1</td>\n",
       "      <td>1</td>\n",
       "      <td>Ah</td>\n",
       "      <td>50</td>\n",
       "    </tr>\n",
       "    <tr>\n",
       "      <th>1</th>\n",
       "      <td>181025</td>\n",
       "      <td>333558</td>\n",
       "      <td>8.6</td>\n",
       "      <td>81</td>\n",
       "      <td>277</td>\n",
       "      <td>1141</td>\n",
       "      <td>6.983</td>\n",
       "      <td>0.012224</td>\n",
       "      <td>14.0</td>\n",
       "      <td>1</td>\n",
       "      <td>1</td>\n",
       "      <td>1</td>\n",
       "      <td>Ah</td>\n",
       "      <td>30</td>\n",
       "    </tr>\n",
       "    <tr>\n",
       "      <th>2</th>\n",
       "      <td>181165</td>\n",
       "      <td>333537</td>\n",
       "      <td>6.5</td>\n",
       "      <td>68</td>\n",
       "      <td>199</td>\n",
       "      <td>640</td>\n",
       "      <td>7.800</td>\n",
       "      <td>0.103029</td>\n",
       "      <td>13.0</td>\n",
       "      <td>1</td>\n",
       "      <td>1</td>\n",
       "      <td>1</td>\n",
       "      <td>Ah</td>\n",
       "      <td>150</td>\n",
       "    </tr>\n",
       "    <tr>\n",
       "      <th>3</th>\n",
       "      <td>181298</td>\n",
       "      <td>333484</td>\n",
       "      <td>2.6</td>\n",
       "      <td>81</td>\n",
       "      <td>116</td>\n",
       "      <td>257</td>\n",
       "      <td>7.655</td>\n",
       "      <td>0.190094</td>\n",
       "      <td>8.0</td>\n",
       "      <td>1</td>\n",
       "      <td>2</td>\n",
       "      <td>0</td>\n",
       "      <td>Ga</td>\n",
       "      <td>270</td>\n",
       "    </tr>\n",
       "    <tr>\n",
       "      <th>4</th>\n",
       "      <td>181307</td>\n",
       "      <td>333330</td>\n",
       "      <td>2.8</td>\n",
       "      <td>48</td>\n",
       "      <td>117</td>\n",
       "      <td>269</td>\n",
       "      <td>7.480</td>\n",
       "      <td>0.277090</td>\n",
       "      <td>8.7</td>\n",
       "      <td>1</td>\n",
       "      <td>2</td>\n",
       "      <td>0</td>\n",
       "      <td>Ah</td>\n",
       "      <td>380</td>\n",
       "    </tr>\n",
       "  </tbody>\n",
       "</table>\n",
       "</div>"
      ],
      "text/plain": [
       "        x       y  cadmium  copper  lead  zinc   elev      dist    om  ffreq  \\\n",
       "0  181072  333611     11.7      85   299  1022  7.909  0.001358  13.6      1   \n",
       "1  181025  333558      8.6      81   277  1141  6.983  0.012224  14.0      1   \n",
       "2  181165  333537      6.5      68   199   640  7.800  0.103029  13.0      1   \n",
       "3  181298  333484      2.6      81   116   257  7.655  0.190094   8.0      1   \n",
       "4  181307  333330      2.8      48   117   269  7.480  0.277090   8.7      1   \n",
       "\n",
       "   soil  lime landuse  dist.m  \n",
       "0     1     1      Ah      50  \n",
       "1     1     1      Ah      30  \n",
       "2     1     1      Ah     150  \n",
       "3     2     0      Ga     270  \n",
       "4     2     0      Ah     380  "
      ]
     },
     "execution_count": 3,
     "metadata": {},
     "output_type": "execute_result"
    }
   ],
   "source": [
    "dataset = pd.read_csv(r\"C:\\Users\\ADMIN\\Downloads\\meuse\\91a2666f7c5972a91bca763daecdc5ff-056bda04114d55b793469b2ab0097ec01a6d66c6\\meuse.csv\")\n",
    "dataset.head()"
   ]
  },
  {
   "cell_type": "code",
   "execution_count": 9,
   "metadata": {},
   "outputs": [],
   "source": [
    "coordinates = dataset[['x', 'y']].values\n",
    "values = dataset['zinc'].values"
   ]
  },
  {
   "cell_type": "code",
   "execution_count": 10,
   "metadata": {},
   "outputs": [],
   "source": [
    "import skgstat as skg\n",
    "import matplotlib.pyplot as plt"
   ]
  },
  {
   "cell_type": "code",
   "execution_count": 19,
   "metadata": {},
   "outputs": [
    {
     "name": "stderr",
     "output_type": "stream",
     "text": [
      "c:\\Users\\ADMIN\\AppData\\Local\\Programs\\Python\\Python313\\Lib\\site-packages\\skgstat\\plotting\\variogram_plot.py:123: UserWarning: FigureCanvasAgg is non-interactive, and thus cannot be shown\n",
      "  fig.show()\n"
     ]
    },
    {
     "data": {
      "image/png": "[encoded data removed]",
      "text/plain": [
       "<Figure size 640x480 with 1 Axes>"
      ]
     },
     "metadata": {},
     "output_type": "display_data"
    }
   ],
   "source": [
    "var = skg.Variogram(coordinates = coordinates, values = values, model= 'exponential')\n",
    "var.fit()\n",
    "fig, ax = plt.subplots()\n",
    "var.plot(ax)\n",
    "plt.title('Empirical Variogram of Zinc Concentration')\n",
    "plt.show()"
   ]
  },
  {
   "cell_type": "code",
   "execution_count": 20,
   "metadata": {},
   "outputs": [
    {
     "data": {
      "text/plain": [
       "{'model': 'exponential',\n",
       " 'estimator': 'matheron',\n",
       " 'dist_func': 'euclidean',\n",
       " 'normalized_effective_range': np.float64(3361088.6104714945),\n",
       " 'normalized_sill': np.float64(20402422108.62437),\n",
       " 'normalized_nugget': 0,\n",
       " 'effective_range': np.float64(756.8716433948576),\n",
       " 'sill': np.float64(122196.85918027189),\n",
       " 'nugget': 0,\n",
       " 'params': {'estimator': 'matheron',\n",
       "  'model': 'exponential',\n",
       "  'dist_func': 'euclidean',\n",
       "  'bin_func': 'even',\n",
       "  'normalize': False,\n",
       "  'fit_method': 'trf',\n",
       "  'fit_sigma': None,\n",
       "  'use_nugget': False,\n",
       "  'maxlag': None,\n",
       "  'n_lags': 10,\n",
       "  'verbose': False},\n",
       " 'kwargs': {}}"
      ]
     },
     "execution_count": 20,
     "metadata": {},
     "output_type": "execute_result"
    }
   ],
   "source": [
    "var.describe()"
   ]
  }
 ],
 "metadata": {
  "kernelspec": {
   "display_name": "Python 3",
   "language": "python",
   "name": "python3"
  },
  "language_info": {
   "codemirror_mode": {
    "name": "ipython",
    "version": 3
   },
   "file_extension": ".py",
   "mimetype": "text/x-python",
   "name": "python",
   "nbconvert_exporter": "python",
   "pygments_lexer": "ipython3",
   "version": "3.13.0"
  }
 },
 "nbformat": 4,
 "nbformat_minor": 2
}
